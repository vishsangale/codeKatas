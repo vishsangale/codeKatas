{
  "nbformat": 4,
  "nbformat_minor": 0,
  "metadata": {
    "colab": {
      "name": "tensorflow0.ipynb",
      "provenance": [],
      "collapsed_sections": [],
      "include_colab_link": true
    },
    "kernelspec": {
      "name": "python3",
      "display_name": "Python 3"
    }
  },
  "cells": [
    {
      "cell_type": "markdown",
      "metadata": {
        "id": "view-in-github",
        "colab_type": "text"
      },
      "source": [
        "<a href=\"https://colab.research.google.com/github/vishsangale/codeKatas/blob/master/tensorflow0.ipynb\" target=\"_parent\"><img src=\"https://colab.research.google.com/assets/colab-badge.svg\" alt=\"Open In Colab\"/></a>"
      ]
    },
    {
      "cell_type": "code",
      "metadata": {
        "id": "ZOpzqD603Inj",
        "colab_type": "code",
        "outputId": "40dd4246-5208-4a28-f775-771f7a883916",
        "colab": {
          "base_uri": "https://localhost:8080/",
          "height": 34
        }
      },
      "source": [
        "import tensorflow as tf\n",
        "from tensorflow.keras import layers\n",
        "\n",
        "print(tf.__version__)"
      ],
      "execution_count": 0,
      "outputs": [
        {
          "output_type": "stream",
          "text": [
            "1.14.0\n"
          ],
          "name": "stdout"
        }
      ]
    },
    {
      "cell_type": "code",
      "metadata": {
        "id": "wpYcXvCcAUsu",
        "colab_type": "code",
        "outputId": "2de749cf-2f03-411b-c73a-ea6cbcfbb52a",
        "colab": {
          "base_uri": "https://localhost:8080/",
          "height": 68
        }
      },
      "source": [
        "from tensorflow.keras.datasets import mnist\n",
        "\n",
        "(x_train, y_train), (x_test, y_test) = mnist.load_data()\n",
        "\n",
        "x_train = x_train.reshape(x_train.shape[0], 28, 28, 1)\n",
        "x_test = x_test.reshape(x_test.shape[0], 28, 28, 1)\n",
        "input_shape = (28, 28, 1)\n",
        "# Making sure that the values are float so that we can get decimal points after division\n",
        "x_train = x_train.astype('float32')\n",
        "x_test = x_test.astype('float32')\n",
        "# Normalizing the RGB codes by dividing it to the max RGB value.\n",
        "x_train /= 255\n",
        "x_test /= 255\n",
        "print('x_train shape:', x_train.shape)\n",
        "print('Number of images in x_train', x_train.shape[0])\n",
        "print('Number of images in x_test', x_test.shape[0])"
      ],
      "execution_count": 0,
      "outputs": [
        {
          "output_type": "stream",
          "text": [
            "x_train shape: (60000, 28, 28, 1)\n",
            "Number of images in x_train 60000\n",
            "Number of images in x_test 10000\n"
          ],
          "name": "stdout"
        }
      ]
    },
    {
      "cell_type": "code",
      "metadata": {
        "id": "knV3fYK23W3k",
        "colab_type": "code",
        "colab": {}
      },
      "source": [
        "from tensorflow.keras.models import Sequential\n",
        "# create Keras like sequential mode\n",
        "model = Sequential()\n",
        "model.add(layers.Conv2D(28, kernel_size=(3,3), input_shape=input_shape))\n",
        "model.add(layers.MaxPooling2D(pool_size=(2, 2)))\n",
        "model.add(layers.Flatten()) # Flattening the 2D arrays for fully connected layers\n",
        "model.add(layers.Dense(128, activation=tf.nn.relu))\n",
        "model.add(layers.Dropout(0.2))\n",
        "model.add(layers.Dense(10,activation=tf.nn.softmax))"
      ],
      "execution_count": 0,
      "outputs": []
    },
    {
      "cell_type": "code",
      "metadata": {
        "id": "vZn_NtRSAaLt",
        "colab_type": "code",
        "outputId": "07e081c4-e478-4a5a-eb33-f58f8e657e14",
        "colab": {
          "base_uri": "https://localhost:8080/",
          "height": 374
        }
      },
      "source": [
        "from tensorflow.keras.callbacks import TensorBoard\n",
        "import datetime, os\n",
        "\n",
        "logdir = os.path.join(\"logs\", datetime.datetime.now().strftime(\"%Y%m%d-%H%M%S\"))\n",
        "tensorboard_callback = tf.keras.callbacks.TensorBoard(logdir, histogram_freq=1)\n",
        "\n",
        "\n",
        "model.compile(optimizer='adam', \n",
        "              loss='sparse_categorical_crossentropy', \n",
        "              metrics=['accuracy'])\n",
        "model.fit(x=x_train, y=y_train, epochs=10, callbacks=[tensorboard_callback])"
      ],
      "execution_count": 0,
      "outputs": [
        {
          "output_type": "stream",
          "text": [
            "Epoch 1/10\n",
            "60000/60000 [==============================] - 40s 673us/sample - loss: 0.2150 - acc: 0.9339\n",
            "Epoch 2/10\n",
            "60000/60000 [==============================] - 36s 608us/sample - loss: 0.0856 - acc: 0.9739\n",
            "Epoch 3/10\n",
            "60000/60000 [==============================] - 37s 609us/sample - loss: 0.0621 - acc: 0.9810\n",
            "Epoch 4/10\n",
            "60000/60000 [==============================] - 37s 613us/sample - loss: 0.0469 - acc: 0.9844\n",
            "Epoch 5/10\n",
            "60000/60000 [==============================] - 37s 622us/sample - loss: 0.0374 - acc: 0.9877\n",
            "Epoch 6/10\n",
            "60000/60000 [==============================] - 36s 602us/sample - loss: 0.0315 - acc: 0.9896\n",
            "Epoch 7/10\n",
            "60000/60000 [==============================] - 37s 616us/sample - loss: 0.0247 - acc: 0.9915\n",
            "Epoch 8/10\n",
            "60000/60000 [==============================] - 36s 603us/sample - loss: 0.0238 - acc: 0.9918\n",
            "Epoch 9/10\n",
            "60000/60000 [==============================] - 36s 606us/sample - loss: 0.0197 - acc: 0.9933\n",
            "Epoch 10/10\n",
            "60000/60000 [==============================] - 36s 602us/sample - loss: 0.0203 - acc: 0.9929\n"
          ],
          "name": "stdout"
        },
        {
          "output_type": "execute_result",
          "data": {
            "text/plain": [
              "<tensorflow.python.keras.callbacks.History at 0x7f1526b42b70>"
            ]
          },
          "metadata": {
            "tags": []
          },
          "execution_count": 24
        }
      ]
    },
    {
      "cell_type": "code",
      "metadata": {
        "id": "GQJgnBZ8AcR8",
        "colab_type": "code",
        "outputId": "62110ffc-cc35-4613-c05c-ad450aa5d208",
        "colab": {
          "base_uri": "https://localhost:8080/",
          "height": 51
        }
      },
      "source": [
        "model.evaluate(x_test, y_test)"
      ],
      "execution_count": 0,
      "outputs": [
        {
          "output_type": "stream",
          "text": [
            "10000/10000 [==============================] - 2s 226us/sample - loss: 0.0591 - acc: 0.9853\n"
          ],
          "name": "stdout"
        },
        {
          "output_type": "execute_result",
          "data": {
            "text/plain": [
              "[0.05909368341050249, 0.9853]"
            ]
          },
          "metadata": {
            "tags": []
          },
          "execution_count": 27
        }
      ]
    }
  ]
}